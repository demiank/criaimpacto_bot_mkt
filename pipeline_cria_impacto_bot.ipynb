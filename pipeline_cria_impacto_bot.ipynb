{
  "nbformat": 4,
  "nbformat_minor": 0,
  "metadata": {
    "colab": {
      "provenance": [],
      "gpuType": "T4",
      "authorship_tag": "ABX9TyN0TLK7NuZoz23KhNqK4ONC",
      "include_colab_link": true
    },
    "kernelspec": {
      "name": "python3",
      "display_name": "Python 3"
    },
    "language_info": {
      "name": "python"
    },
    "accelerator": "GPU"
  },
  "cells": [
    {
      "cell_type": "markdown",
      "metadata": {
        "id": "view-in-github",
        "colab_type": "text"
      },
      "source": [
        "<a href=\"https://colab.research.google.com/github/demiank/criaimpacto_bot_mkt/blob/main/pipeline_cria_impacto_bot.ipynb\" target=\"_parent\"><img src=\"https://colab.research.google.com/assets/colab-badge.svg\" alt=\"Open In Colab\"/></a>"
      ]
    },
    {
      "cell_type": "code",
      "execution_count": null,
      "metadata": {
        "id": "j-xn1xCqJu1f",
        "colab": {
          "base_uri": "https://localhost:8080/"
        },
        "outputId": "ef299411-c2a2-4bf8-b99d-cb78027c6b50"
      },
      "outputs": [
        {
          "output_type": "stream",
          "name": "stdout",
          "text": [
            "Drive already mounted at /content/drive; to attempt to forcibly remount, call drive.mount(\"/content/drive\", force_remount=True).\n",
            "✅ Google Drive montado com sucesso em /content/drive\n",
            "\n",
            "⏳ Instalando bibliotecas necessárias... (pode levar alguns minutos)\n",
            "✅ Bibliotecas instaladas.\n",
            "\n",
            "Tentando configurar a API do Google Gemini com Colab Secrets...\n",
            "✅ API do Google Gemini configurada com sucesso usando GOOGLE_API_KEY (Colab Secrets).\n",
            "\n",
            "✅ API do Kaggle já está configurada.\n",
            "\n",
            "Tentando login no Hugging Face com Colab Secrets...\n",
            "✅ Login no Hugging Face realizado com sucesso usando HF_TOKEN (Colab Secrets).\n",
            "\n",
            "🚀 Ambiente 100% preparado e seguro! Estamos prontos para a próxima etapa.\n"
          ]
        }
      ],
      "source": [
        "# ==============================================================================\n",
        "# SCRIPT DE CONFIGURAÇÃO TOTAL DO AMBIENTE (VERSÃO SEGURA E CORRIGIDA)\n",
        "# ==============================================================================\n",
        "\n",
        "# ---------------------------------\n",
        "# 1. CONEXÃO COM GOOGLE DRIVE\n",
        "# ---------------------------------\n",
        "from google.colab import drive\n",
        "drive.mount('/content/drive')\n",
        "print(\"✅ Google Drive montado com sucesso em /content/drive\")\n",
        "\n",
        "# ---------------------------------\n",
        "# 2. INSTALAÇÃO DE BIBLIOTECAS\n",
        "# ---------------------------------\n",
        "print(\"\\n⏳ Instalando bibliotecas necessárias... (pode levar alguns minutos)\")\n",
        "!pip install -q -U google-generativeai datasets huggingface_hub kaggle ebooklib html2text\n",
        "print(\"✅ Bibliotecas instaladas.\")\n",
        "\n",
        "# ---------------------------------\n",
        "# 3. AUTENTICAÇÃO SEGURA NAS APIS\n",
        "# ---------------------------------\n",
        "from google.colab import files, userdata\n",
        "from huggingface_hub import login\n",
        "import os\n",
        "import google.generativeai as genai\n",
        "\n",
        "# 3.1 API do Google (Gemini) - USANDO COLAB SECRETS\n",
        "print(\"\\nTentando configurar a API do Google Gemini com Colab Secrets...\")\n",
        "try:\n",
        "    GOOGLE_API_KEY = userdata.get('GOOGLE_API_KEY')\n",
        "    if GOOGLE_API_KEY:\n",
        "        genai.configure(api_key=GOOGLE_API_KEY)\n",
        "        print(\"✅ API do Google Gemini configurada com sucesso usando GOOGLE_API_KEY (Colab Secrets).\")\n",
        "    else:\n",
        "        print(\"❌ GOOGLE_API_KEY não encontrado nos Secrets do Colab. Por favor, crie o secret no menu lateral (🔑).\")\n",
        "        raise Exception(\"Token não encontrado\")\n",
        "except Exception as e:\n",
        "    print(f\"❌ Erro ao acessar Colab Secrets ou configurar a API do Gemini: {e}\")\n",
        "\n",
        "\n",
        "# 3.2 API do Kaggle\n",
        "if not os.path.exists('/root/.kaggle/kaggle.json'):\n",
        "    print(\"\\nFaça o upload do seu arquivo 'kaggle.json' agora.\")\n",
        "    files.upload()\n",
        "    !mkdir -p ~/.kaggle\n",
        "    !mv kaggle.json ~/.kaggle/\n",
        "    !chmod 600 ~/.kaggle/kaggle.json\n",
        "    print(\"\\n✅ API do Kaggle configurada.\")\n",
        "else:\n",
        "    print(\"\\n✅ API do Kaggle já está configurada.\")\n",
        "\n",
        "\n",
        "# 3.3 API do Hugging Face\n",
        "print(\"\\nTentando login no Hugging Face com Colab Secrets...\")\n",
        "try:\n",
        "    hf_token = userdata.get('HF_TOKEN')\n",
        "    if hf_token:\n",
        "        login(token=hf_token)\n",
        "        print(\"✅ Login no Hugging Face realizado com sucesso usando HF_TOKEN (Colab Secrets).\")\n",
        "    else:\n",
        "        print(\"❌ HF_TOKEN não encontrado nos Secrets do Colab. Por favor, crie o secret 'HF_TOKEN' no menu lateral (🔑).\")\n",
        "        raise Exception(\"Token não encontrado\")\n",
        "except Exception as e:\n",
        "    print(f\"❌ Erro ao acessar Colab Secrets ou fazer login: {e}\")\n",
        "\n",
        "\n",
        "print(\"\\n🚀 Ambiente 100% preparado e seguro! Estamos prontos para a próxima etapa.\")"
      ]
    },
    {
      "cell_type": "markdown",
      "source": [],
      "metadata": {
        "id": "u3m-mqQwYU_L"
      }
    }
  ]
}